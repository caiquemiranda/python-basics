{
 "cells": [
  {
   "cell_type": "code",
   "execution_count": 2,
   "metadata": {},
   "outputs": [
    {
     "name": "stdout",
     "output_type": "stream",
     "text": [
      "Pegue o ônibus!\n"
     ]
    }
   ],
   "source": [
    "# definindo variaveis\n",
    "\n",
    "valor_passagem = 4.30\n",
    "\n",
    "valor_corrida = input('Qual valor da corrida: ')\n",
    "\n",
    "if (float(valor_corrida) <= valor_passagem * 5):\n",
    "    print('Pague a corrida!')\n",
    "    \n",
    "if (float(valor_corrida) > valor_passagem * 5):\n",
    "    print('Pegue o ônibus!')"
   ]
  },
  {
   "cell_type": "code",
   "execution_count": 5,
   "metadata": {},
   "outputs": [
    {
     "name": "stdout",
     "output_type": "stream",
     "text": [
      "Pague a corrida!\n"
     ]
    }
   ],
   "source": [
    "# forma ideal\n",
    "\n",
    "valor_passagem = 4.30\n",
    "\n",
    "valor_corrida = input('Qual valor da corrida: ')\n",
    "\n",
    "if (float(valor_corrida) <= valor_passagem * 5):\n",
    "    print('Pague a corrida!')\n",
    "    \n",
    "else:\n",
    "    print('Pegue o ônibus!')"
   ]
  },
  {
   "cell_type": "code",
   "execution_count": 8,
   "metadata": {},
   "outputs": [
    {
     "name": "stdout",
     "output_type": "stream",
     "text": [
      "Aguarde um momento, o valor pode abaixar!\n"
     ]
    }
   ],
   "source": [
    "# mais de 2 decisoes\n",
    "\n",
    "valor_passagem = 4.30\n",
    "\n",
    "valor_corrida = input('Qual valor da corrida: ')\n",
    "\n",
    "if (float(valor_corrida) <= valor_passagem * 5):\n",
    "    print('Pague a corrida!')\n",
    "    \n",
    "else:\n",
    "    if (float(valor_corrida) <= valor_passagem * 6):\n",
    "        print('Aguarde um momento, o valor pode abaixar!')\n",
    "    else:\n",
    "        print('Pegue o ônibus!')"
   ]
  },
  {
   "cell_type": "code",
   "execution_count": 13,
   "metadata": {},
   "outputs": [
    {
     "name": "stdout",
     "output_type": "stream",
     "text": [
      "Pegue o ônibus!\n"
     ]
    }
   ],
   "source": [
    "# ideal mais de 2 condições\n",
    "\n",
    "valor_passagem = 4.30\n",
    "\n",
    "valor_corrida = input('Qual valor da corrida: ')\n",
    "\n",
    "if (float(valor_corrida) <= valor_passagem * 5):\n",
    "    print('Pague a corrida!')\n",
    "    \n",
    "elif (float(valor_corrida) <= valor_passagem * 6):\n",
    "    print('Aguarde um momento, o valor pode abaixar!')\n",
    "\n",
    "else:\n",
    "    print('Pegue o ônibus!')"
   ]
  }
 ],
 "metadata": {
  "kernelspec": {
   "display_name": "Python 3.10.5 64-bit (system)",
   "language": "python",
   "name": "python3"
  },
  "language_info": {
   "codemirror_mode": {
    "name": "ipython",
    "version": 3
   },
   "file_extension": ".py",
   "mimetype": "text/x-python",
   "name": "python",
   "nbconvert_exporter": "python",
   "pygments_lexer": "ipython3",
   "version": "3.10.5"
  },
  "orig_nbformat": 4,
  "vscode": {
   "interpreter": {
    "hash": "74af3d2f25f1e46ebd2903d59225d79e4675ec224d56c01fc30cd168c2010d53"
   }
  }
 },
 "nbformat": 4,
 "nbformat_minor": 2
}
