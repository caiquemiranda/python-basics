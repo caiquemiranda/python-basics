{
 "cells": [
  {
   "cell_type": "code",
   "execution_count": 8,
   "metadata": {},
   "outputs": [
    {
     "name": "stdout",
     "output_type": "stream",
     "text": [
      "\n",
      "Dom Casmurro'\n",
      "Obra de Machado de Assis\n",
      "\n",
      "I\n",
      "\n",
      "Do titulo.\n",
      "\n",
      "Uma noite destas, vindo da cidade para o Engenho Novo, encontrei no\n",
      "trem da Central um rapaz aqui do bairro, que eu conheço de vista e\n",
      "de chapéo. Comprimentou-me, sentou-se ao pé de mim, falou da lua e\n",
      "dos ministros, e acabou recitando-me versos. A viagem era curta, e os\n",
      "versos póde ser que não fossem inteiramente maus. Succedeu, porém, que\n",
      "como eu estava cançado, fechei os olhos tres ou quatro vezes; tanto\n",
      "bastou para que elle interrompesse a leitura e mettesse os versos no\n",
      "bolso.\n",
      "\n",
      "--Continue, disse eu accordando.\n",
      "\n",
      "--Já acabei, murmurou elle.\n",
      "\n",
      "--São muito bonitos.\n",
      "\n",
      "Vi-lhe fazer um gesto para tiral-os outra vez do bolso, mas não passou\n",
      "do gesto; estava amuado. No dia seguinte entrou a dizer de mim nomes\n",
      "feios, e acabou alcunhando-me _Dom Casmurro._ Os visinhos, que não\n",
      "gostam dos meus habitos reclusos e calados, deram curso á alcunha, que\n",
      "afinal pegou. Nem por isso me zanguei. Contei a anecdota aos amigos da\n",
      "cidade, e elles, por graça, chamam-me assim, alguns em bilhetes: «Dom\n",
      "Casmurro, domingo vou jantar com você.»--«Vou para Petropolis, Dom\n",
      "Casmurro; a casa é a mesma da Rhenania; vê se deixas essa caverna do\n",
      "Engenho Novo, e vae lá passar uns quinze dias commigo.»--«Meu caro Dom\n",
      "Casmurro, não cuide que o dispenso do theatro amanhã; venha e dormirá\n",
      "aqui na cidade; dou-lhe camarote, dou-lhe chá, dou-lhe cama; só não lhe\n",
      "dou moça.»\n",
      "\n",
      "Não consultes diccionarios. _Casmurro_ não está aqui no sentido que\n",
      "elles lhe dão, mas no que lhe poz o vulgo de homem calado e mettido\n",
      "comsigo. _Dom_ veiu por ironia, para attribuir-me fumos de fidalgo.\n",
      "Tudo por estar cochilando! Tambem não achei melhor titulo para a minha\n",
      "narração; se não tiver outro d'aqui até ao fim do livro, vae este\n",
      "mesmo. O meu poeta do trem ficará sabendo que não lhe guardo rancor.\n",
      "E com pequeno esforço, sendo o titulo seu, poderá cuidar que a obra\n",
      "é sua. Ha livros que apenas terão isso dos seus autores; alguns nem\n",
      "tanto.\n",
      "\n",
      "\n",
      "\n"
     ]
    }
   ],
   "source": [
    "arquivo = open('./data/domcasmurro_cap01.txt', 'r', encoding='utf8')\n",
    "texto = arquivo.read()\n",
    "print(texto)\n",
    "arquivo.close()"
   ]
  },
  {
   "cell_type": "code",
   "execution_count": 9,
   "metadata": {},
   "outputs": [
    {
     "name": "stdout",
     "output_type": "stream",
     "text": [
      "\n",
      "Dom Casmurro'\n",
      "Obra de Machado de Assis\n",
      "\n",
      "I\n",
      "\n",
      "Do titulo.\n",
      "\n",
      "Uma noite destas, vindo da cidade para o Engenho Novo, encontrei no\n",
      "trem da Central um rapaz aqui do bairro, que eu conheço de vista e\n",
      "de chapéo. Comprimentou-me, sentou-se ao pé de mim, falou da lua e\n",
      "dos ministros, e acabou recitando-me versos. A viagem era curta, e os\n",
      "versos póde ser que não fossem inteiramente maus. Succedeu, porém, que\n",
      "como eu estava cançado, fechei os olhos tres ou quatro vezes; tanto\n",
      "bastou para que elle interrompesse a leitura e mettesse os versos no\n",
      "bolso.\n",
      "\n",
      "--Continue, disse eu accordando.\n",
      "\n",
      "--Já acabei, murmurou elle.\n",
      "\n",
      "--São muito bonitos.\n",
      "\n",
      "Vi-lhe fazer um gesto para tiral-os outra vez do bolso, mas não passou\n",
      "do gesto; estava amuado. No dia seguinte entrou a dizer de mim nomes\n",
      "feios, e acabou alcunhando-me _Dom Casmurro._ Os visinhos, que não\n",
      "gostam dos meus habitos reclusos e calados, deram curso á alcunha, que\n",
      "afinal pegou. Nem por isso me zanguei. Contei a anecdota aos amigos da\n",
      "cidade, e elles, por graça, chamam-me assim, alguns em bilhetes: «Dom\n",
      "Casmurro, domingo vou jantar com você.»--«Vou para Petropolis, Dom\n",
      "Casmurro; a casa é a mesma da Rhenania; vê se deixas essa caverna do\n",
      "Engenho Novo, e vae lá passar uns quinze dias commigo.»--«Meu caro Dom\n",
      "Casmurro, não cuide que o dispenso do theatro amanhã; venha e dormirá\n",
      "aqui na cidade; dou-lhe camarote, dou-lhe chá, dou-lhe cama; só não lhe\n",
      "dou moça.»\n",
      "\n",
      "Não consultes diccionarios. _Casmurro_ não está aqui no sentido que\n",
      "elles lhe dão, mas no que lhe poz o vulgo de homem calado e mettido\n",
      "comsigo. _Dom_ veiu por ironia, para attribuir-me fumos de fidalgo.\n",
      "Tudo por estar cochilando! Tambem não achei melhor titulo para a minha\n",
      "narração; se não tiver outro d'aqui até ao fim do livro, vae este\n",
      "mesmo. O meu poeta do trem ficará sabendo que não lhe guardo rancor.\n",
      "E com pequeno esforço, sendo o titulo seu, poderá cuidar que a obra\n",
      "é sua. Ha livros que apenas terão isso dos seus autores; alguns nem\n",
      "tanto.\n",
      "\n",
      "\n"
     ]
    },
    {
     "data": {
      "text/plain": [
       "<function TextIOWrapper.close()>"
      ]
     },
     "execution_count": 9,
     "metadata": {},
     "output_type": "execute_result"
    }
   ],
   "source": [
    "arquivo = open('./data/domcasmurro_cap01.txt', 'r', encoding='utf8')\n",
    "linha = arquivo.readline()\n",
    "while linha != '':\n",
    "    print(linha, end='')\n",
    "    linha = arquivo.readline()\n",
    "arquivo.close"
   ]
  },
  {
   "cell_type": "code",
   "execution_count": 10,
   "metadata": {},
   "outputs": [
    {
     "name": "stdout",
     "output_type": "stream",
     "text": [
      "\n",
      "Dom Casmurro'\n",
      "Obra de Machado de Assis\n",
      "\n",
      "I\n",
      "\n",
      "Do titulo.\n",
      "\n",
      "Uma noite destas, vindo da cidade para o Engenho Novo, encontrei no\n",
      "trem da Central um rapaz aqui do bairro, que eu conheço de vista e\n",
      "de chapéo. Comprimentou-me, sentou-se ao pé de mim, falou da lua e\n",
      "dos ministros, e acabou recitando-me versos. A viagem era curta, e os\n",
      "versos póde ser que não fossem inteiramente maus. Succedeu, porém, que\n",
      "como eu estava cançado, fechei os olhos tres ou quatro vezes; tanto\n",
      "bastou para que elle interrompesse a leitura e mettesse os versos no\n",
      "bolso.\n",
      "\n",
      "--Continue, disse eu accordando.\n",
      "\n",
      "--Já acabei, murmurou elle.\n",
      "\n",
      "--São muito bonitos.\n",
      "\n",
      "Vi-lhe fazer um gesto para tiral-os outra vez do bolso, mas não passou\n",
      "do gesto; estava amuado. No dia seguinte entrou a dizer de mim nomes\n",
      "feios, e acabou alcunhando-me _Dom Casmurro._ Os visinhos, que não\n",
      "gostam dos meus habitos reclusos e calados, deram curso á alcunha, que\n",
      "afinal pegou. Nem por isso me zanguei. Contei a anecdota aos amigos da\n",
      "cidade, e elles, por graça, chamam-me assim, alguns em bilhetes: «Dom\n",
      "Casmurro, domingo vou jantar com você.»--«Vou para Petropolis, Dom\n",
      "Casmurro; a casa é a mesma da Rhenania; vê se deixas essa caverna do\n",
      "Engenho Novo, e vae lá passar uns quinze dias commigo.»--«Meu caro Dom\n",
      "Casmurro, não cuide que o dispenso do theatro amanhã; venha e dormirá\n",
      "aqui na cidade; dou-lhe camarote, dou-lhe chá, dou-lhe cama; só não lhe\n",
      "dou moça.»\n",
      "\n",
      "Não consultes diccionarios. _Casmurro_ não está aqui no sentido que\n",
      "elles lhe dão, mas no que lhe poz o vulgo de homem calado e mettido\n",
      "comsigo. _Dom_ veiu por ironia, para attribuir-me fumos de fidalgo.\n",
      "Tudo por estar cochilando! Tambem não achei melhor titulo para a minha\n",
      "narração; se não tiver outro d'aqui até ao fim do livro, vae este\n",
      "mesmo. O meu poeta do trem ficará sabendo que não lhe guardo rancor.\n",
      "E com pequeno esforço, sendo o titulo seu, poderá cuidar que a obra\n",
      "é sua. Ha livros que apenas terão isso dos seus autores; alguns nem\n",
      "tanto.\n",
      "\n",
      "\n"
     ]
    }
   ],
   "source": [
    "arquivo = open('./data/domcasmurro_cap01.txt', 'r', encoding='utf8')\n",
    "for linha in arquivo:\n",
    "    print(linha, end='')\n",
    "\n",
    "arquivo.close()"
   ]
  },
  {
   "cell_type": "code",
   "execution_count": 11,
   "metadata": {},
   "outputs": [
    {
     "name": "stdout",
     "output_type": "stream",
     "text": [
      "\n",
      "Dom Casmurro'\n",
      "Obra de Machado de Assis\n",
      "\n",
      "I\n",
      "\n",
      "Do titulo.\n",
      "\n",
      "Uma noite destas, vindo da cidade para o Engenho Novo, encontrei no\n",
      "trem da Central um rapaz aqui do bairro, que eu conheço de vista e\n",
      "de chapéo. Comprimentou-me, sentou-se ao pé de mim, falou da lua e\n",
      "dos ministros, e acabou recitando-me versos. A viagem era curta, e os\n",
      "versos póde ser que não fossem inteiramente maus. Succedeu, porém, que\n",
      "como eu estava cançado, fechei os olhos tres ou quatro vezes; tanto\n",
      "bastou para que elle interrompesse a leitura e mettesse os versos no\n",
      "bolso.\n",
      "\n",
      "--Continue, disse eu accordando.\n",
      "\n",
      "--Já acabei, murmurou elle.\n",
      "\n",
      "--São muito bonitos.\n",
      "\n",
      "Vi-lhe fazer um gesto para tiral-os outra vez do bolso, mas não passou\n",
      "do gesto; estava amuado. No dia seguinte entrou a dizer de mim nomes\n",
      "feios, e acabou alcunhando-me _Dom Casmurro._ Os visinhos, que não\n",
      "gostam dos meus habitos reclusos e calados, deram curso á alcunha, que\n",
      "afinal pegou. Nem por isso me zanguei. Contei a anecdota aos amigos da\n",
      "cidade, e elles, por graça, chamam-me assim, alguns em bilhetes: «Dom\n",
      "Casmurro, domingo vou jantar com você.»--«Vou para Petropolis, Dom\n",
      "Casmurro; a casa é a mesma da Rhenania; vê se deixas essa caverna do\n",
      "Engenho Novo, e vae lá passar uns quinze dias commigo.»--«Meu caro Dom\n",
      "Casmurro, não cuide que o dispenso do theatro amanhã; venha e dormirá\n",
      "aqui na cidade; dou-lhe camarote, dou-lhe chá, dou-lhe cama; só não lhe\n",
      "dou moça.»\n",
      "\n",
      "Não consultes diccionarios. _Casmurro_ não está aqui no sentido que\n",
      "elles lhe dão, mas no que lhe poz o vulgo de homem calado e mettido\n",
      "comsigo. _Dom_ veiu por ironia, para attribuir-me fumos de fidalgo.\n",
      "Tudo por estar cochilando! Tambem não achei melhor titulo para a minha\n",
      "narração; se não tiver outro d'aqui até ao fim do livro, vae este\n",
      "mesmo. O meu poeta do trem ficará sabendo que não lhe guardo rancor.\n",
      "E com pequeno esforço, sendo o titulo seu, poderá cuidar que a obra\n",
      "é sua. Ha livros que apenas terão isso dos seus autores; alguns nem\n",
      "tanto.\n",
      "\n",
      "\n",
      "\n"
     ]
    }
   ],
   "source": [
    "with open('./data/domcasmurro_cap01.txt', 'r', encoding='utf8') as arquivo:\n",
    "    texto = arquivo.read()\n",
    "    print(texto)"
   ]
  },
  {
   "cell_type": "code",
   "execution_count": 12,
   "metadata": {},
   "outputs": [
    {
     "ename": "ValueError",
     "evalue": "I/O operation on closed file.",
     "output_type": "error",
     "traceback": [
      "\u001b[1;31m---------------------------------------------------------------------------\u001b[0m",
      "\u001b[1;31mValueError\u001b[0m                                Traceback (most recent call last)",
      "\u001b[1;32md:\\GIT-repository\\github-python-basics\\python-basics\\03-aplicacoes\\aula01-manipulacao-arquivos.ipynb Célula: 5\u001b[0m in \u001b[0;36m<cell line: 1>\u001b[1;34m()\u001b[0m\n\u001b[1;32m----> <a href='vscode-notebook-cell:/d%3A/GIT-repository/github-python-basics/python-basics/03-aplicacoes/aula01-manipulacao-arquivos.ipynb#W5sZmlsZQ%3D%3D?line=0'>1</a>\u001b[0m arquivo\u001b[39m.\u001b[39;49mread()\n",
      "\u001b[1;31mValueError\u001b[0m: I/O operation on closed file."
     ]
    }
   ],
   "source": [
    "arquivo.read()"
   ]
  },
  {
   "cell_type": "code",
   "execution_count": 14,
   "metadata": {},
   "outputs": [],
   "source": [
    "# criando arquivo do zero\n",
    "\n",
    "with open('./data/arquivo_teste.txt', 'w', encoding='utf8') as arquivo:\n",
    "    arquivo.write('Essa é uma linha que eu estou escrendo linha numero 1 usando python\\n')\n",
    "    arquivo.write('Essa é a segunda linha escrita usando python.')"
   ]
  },
  {
   "cell_type": "code",
   "execution_count": 15,
   "metadata": {},
   "outputs": [
    {
     "name": "stdout",
     "output_type": "stream",
     "text": [
      "Essa é uma linha que eu estou escrendo linha numero 1 \n",
      "Essa é a segunda linha escrita.\n"
     ]
    }
   ],
   "source": [
    "with open('./data/arquivo_teste.txt', 'r', encoding='utf8') as arquivo:\n",
    "    texto = arquivo.read()\n",
    "    print(texto)"
   ]
  },
  {
   "cell_type": "code",
   "execution_count": 16,
   "metadata": {},
   "outputs": [],
   "source": [
    "# modificando arquivo\n",
    "\n",
    "with open('./data/arquivo_teste.txt', 'a', encoding='utf8') as arquivo:\n",
    "    arquivo.write('Essa é uma linha de numero 3 usando python\\n')\n",
    "    arquivo.write('Essa é a ultima linha escrita usando python.')"
   ]
  },
  {
   "cell_type": "code",
   "execution_count": null,
   "metadata": {},
   "outputs": [],
   "source": []
  }
 ],
 "metadata": {
  "kernelspec": {
   "display_name": "Python 3.10.5 64-bit (system)",
   "language": "python",
   "name": "python3"
  },
  "language_info": {
   "codemirror_mode": {
    "name": "ipython",
    "version": 3
   },
   "file_extension": ".py",
   "mimetype": "text/x-python",
   "name": "python",
   "nbconvert_exporter": "python",
   "pygments_lexer": "ipython3",
   "version": "3.10.5"
  },
  "orig_nbformat": 4,
  "vscode": {
   "interpreter": {
    "hash": "74af3d2f25f1e46ebd2903d59225d79e4675ec224d56c01fc30cd168c2010d53"
   }
  }
 },
 "nbformat": 4,
 "nbformat_minor": 2
}
