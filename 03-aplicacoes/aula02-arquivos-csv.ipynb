{
 "cells": [
  {
   "cell_type": "code",
   "execution_count": null,
   "metadata": {},
   "outputs": [],
   "source": [
    "import csv"
   ]
  },
  {
   "cell_type": "code",
   "execution_count": null,
   "metadata": {},
   "outputs": [],
   "source": [
    "with open('./data/brasil_covid.csv', 'r', encoding='utf8') as arquivo_csv:\n",
    "    leitor = csv.reader(arquivo_csv)\n",
    "    for linha in leitor:\n",
    "        print(linha)"
   ]
  },
  {
   "cell_type": "code",
   "execution_count": null,
   "metadata": {},
   "outputs": [],
   "source": [
    "from email import header\n",
    "\n",
    "\n",
    "with open('./data/brasil_covid.csv', 'r', encoding='utf8') as arquivo_csv:\n",
    "    leitor = csv.reader(arquivo_csv)\n",
    "    \n",
    "    header = next(leitor)   # pular a primeira linha\n",
    "    \n",
    "    for linha in leitor:\n",
    "        if float(linha[2]) > 1:\n",
    "            print(linha)"
   ]
  },
  {
   "cell_type": "code",
   "execution_count": null,
   "metadata": {},
   "outputs": [],
   "source": [
    "with open('./data/brasil_covid.csv', 'r', encoding='utf8') as arquivo_csv:\n",
    "    linhas = arquivo_csv.read()\n",
    "    linhas = linhas.split('\\n')\n",
    "    for linha in linhas:\n",
    "        linha.split(',')\n",
    "        print(linha)"
   ]
  },
  {
   "cell_type": "code",
   "execution_count": null,
   "metadata": {},
   "outputs": [],
   "source": [
    "# escrita de arquivo\n",
    "\n",
    "with open('./data/users.csv', 'w', encoding='utf-8', newline='') as arquivo_users:\n",
    "    escritor = csv.writer(arquivo_users)\n",
    "    escritor.writerow(['nome', 'sobrenome', 'email', 'genero'])\n",
    "    escritor.writerow(['Caique', 'Miranda', 'caique@email.com', 'masculino'])"
   ]
  },
  {
   "cell_type": "code",
   "execution_count": 1,
   "metadata": {},
   "outputs": [],
   "source": [
    "header = ['nome', 'sobrenome']\n",
    "dados = []\n",
    "\n",
    "opt = input('O que deseja fazer?\\n1-Cadastro \\n0-Sair ')\n",
    "while opt != '0':\n",
    "    nome = input('Qual seu nome? ')\n",
    "    sobrenome = input('Qual seu sobrenome? ')\n",
    "    dados.append([nome, sobrenome])\n",
    "    opt = input('O que deseja fazer?\\n1-Cadastro \\n0-Sair ')\n",
    "    \n",
    "print(dados)\n",
    "\n",
    "with open('./data/users.csv', 'w', encoding='utf-8', newline='') as arquivo_csv:\n",
    "    write = csv.writer(arquivo_csv)\n",
    "    write.writerow(header)\n",
    "    write.writerow(dados)\n",
    "\n",
    "with open('./data/users.csv', 'r', encoding='utf-8', newline='') as csv_file:\n",
    "    csv_reader = csv.reader(csv_file, delimiter=',')\n",
    "    for row in csv_reader:\n",
    "        print(row)"
   ]
  }
 ],
 "metadata": {
  "kernelspec": {
   "display_name": "Python 3.10.5 64-bit (system)",
   "language": "python",
   "name": "python3"
  },
  "language_info": {
   "codemirror_mode": {
    "name": "ipython",
    "version": 3
   },
   "file_extension": ".py",
   "mimetype": "text/x-python",
   "name": "python",
   "nbconvert_exporter": "python",
   "pygments_lexer": "ipython3",
   "version": "3.10.5"
  },
  "orig_nbformat": 4,
  "vscode": {
   "interpreter": {
    "hash": "74af3d2f25f1e46ebd2903d59225d79e4675ec224d56c01fc30cd168c2010d53"
   }
  }
 },
 "nbformat": 4,
 "nbformat_minor": 2
}
