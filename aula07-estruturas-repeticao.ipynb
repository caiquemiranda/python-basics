{
 "cells": [
  {
   "cell_type": "code",
   "execution_count": 2,
   "metadata": {},
   "outputs": [
    {
     "name": "stdout",
     "output_type": "stream",
     "text": [
      "1 Item limpo.\n",
      "2 Itens limpos.\n",
      "3 Itens limpos.\n",
      "4 Itens limpos.\n",
      "5 Itens limpos.\n",
      "6 Itens limpos.\n",
      "7 Itens limpos.\n",
      "8 Itens limpos.\n",
      "9 Itens limpos.\n",
      "10 Itens limpos.\n",
      "Fim da repetição do bloco while!\n"
     ]
    }
   ],
   "source": [
    "# while(enquanto)\n",
    "\n",
    "contador = 0\n",
    "\n",
    "while (contador < 10):\n",
    "    contador = contador + 1\n",
    "    \n",
    "    if (contador == 1):\n",
    "        print(contador, 'Item limpo.')\n",
    "    \n",
    "    else:\n",
    "        print(contador, 'Itens limpos.')\n",
    "print('Fim da repetição do bloco while!')"
   ]
  },
  {
   "cell_type": "code",
   "execution_count": 4,
   "metadata": {},
   "outputs": [
    {
     "name": "stdout",
     "output_type": "stream",
     "text": [
      "1 Item limpo.\n",
      "2 itens  limpos.\n",
      "3 itens  limpos.\n",
      "4 itens  limpos.\n",
      "5 itens  limpos.\n",
      "6 itens  limpos.\n",
      "7 itens  limpos.\n",
      "8 itens  limpos.\n",
      "9 itens  limpos.\n",
      "10 itens  limpos.\n",
      "Fim da repetição do bloco while!\n"
     ]
    }
   ],
   "source": [
    "contador = 0\n",
    "\n",
    "while True:\n",
    "    if contador < 10:\n",
    "        contador = contador + 1\n",
    "        if contador == 1:\n",
    "            print(contador, 'Item limpo.')\n",
    "        \n",
    "        else:\n",
    "            \n",
    "            print(contador, 'itens  limpos.')\n",
    "    else:\n",
    "        \n",
    "        break          # break na ultima condicional\n",
    "print('Fim da repetição do bloco while!')"
   ]
  },
  {
   "cell_type": "code",
   "execution_count": 6,
   "metadata": {},
   "outputs": [
    {
     "name": "stdout",
     "output_type": "stream",
     "text": [
      "Acesso permitido!\n"
     ]
    }
   ],
   "source": [
    "texto = input('Digite sua senha: ')\n",
    "\n",
    "while texto != 'letscode':\n",
    "    texto = input('Senha inválida. tente novamente.')\n",
    "\n",
    "print('Acesso permitido!')"
   ]
  },
  {
   "cell_type": "code",
   "execution_count": 7,
   "metadata": {},
   "outputs": [
    {
     "name": "stdout",
     "output_type": "stream",
     "text": [
      "2 itens limpos.\n",
      "3 itens limpos.\n",
      "4 itens limpos.\n",
      "5 itens limpos.\n",
      "6 itens limpos.\n",
      "7 itens limpos.\n",
      "8 itens limpos.\n",
      "9 itens limpos.\n",
      "10 itens limpos.\n",
      "Fim da repetição do bloco while!\n"
     ]
    }
   ],
   "source": [
    "contador = 0\n",
    "\n",
    "while (contador < 10):\n",
    "    contador = contador + 1\n",
    "    \n",
    "    if (contador == 1):\n",
    "        continue # iguinora a condição acima\n",
    "    \n",
    "    print(contador, 'itens limpos.')\n",
    "    \n",
    "print('Fim da repetição do bloco while!')"
   ]
  }
 ],
 "metadata": {
  "kernelspec": {
   "display_name": "Python 3.10.5 64-bit (system)",
   "language": "python",
   "name": "python3"
  },
  "language_info": {
   "codemirror_mode": {
    "name": "ipython",
    "version": 3
   },
   "file_extension": ".py",
   "mimetype": "text/x-python",
   "name": "python",
   "nbconvert_exporter": "python",
   "pygments_lexer": "ipython3",
   "version": "3.10.5"
  },
  "orig_nbformat": 4,
  "vscode": {
   "interpreter": {
    "hash": "74af3d2f25f1e46ebd2903d59225d79e4675ec224d56c01fc30cd168c2010d53"
   }
  }
 },
 "nbformat": 4,
 "nbformat_minor": 2
}
